{
 "cells": [
  {
   "cell_type": "code",
   "execution_count": null,
   "metadata": {
    "collapsed": true,
    "is_executing": true
   },
   "outputs": [],
   "source": [
    "from Mod4 import AnimalShelter\n",
    "\n",
    "# Create an instance of the AnimalShelter class\n",
    "shelter = AnimalShelter()\n",
    "\n",
    "# Test create functionality\n",
    "new_animal = {\"breed\": \"Poodle\"}\n",
    "created_animal = shelter.create(new_animal)\n",
    "if created_animal:\n",
    "    print(\"Animal created successfully:\", new_animal)\n",
    "else:\n",
    "    print(\"Animal creation failed.\")\n",
    "\n",
    "# Test read functionality\n",
    "new_animal_2 = {\"breed\": \"Datsun\"}\n",
    "created_animal_2 = shelter.create(new_animal_2)\n",
    "\n",
    "retrieved_animal = shelter.read({\"breed\": \"Datsun\"})\n",
    "\n",
    "if retrieved_animal:\n",
    "    print(\"Animal read successfully: \", new_animal_2)\n",
    "else:\n",
    "    print(\"Animal read failed\")\n",
    "\n",
    "# Test update functionality\n",
    "new_animal_3 = {\"breed\": \"Boxer\", \"Age\": 2}\n",
    "created_animal_3 = shelter.create(new_animal_3)\n",
    "data = {\"breed\": \"Boxer\"}\n",
    "newAge = {\"Age\": 5}\n",
    "updated_record = shelter.update(data, newAge)\n",
    "\n",
    "if updated_record[\"Age\"] == 5 :\n",
    "    print(new_animal_3, \" has been successfully updated to age:\", updated_record[\"Age\"])\n",
    "else:\n",
    "    print(new_animal_3, \" has not been updated\")\n",
    "\n",
    "\n",
    "# Test delete functionality\n",
    "new_animal_4 = {\"breed\": \"Yorky\"}\n",
    "created_animal_4 = shelter.create(new_animal_4)\n",
    "\n",
    "deleted_record = shelter.delete(new_animal_4)\n",
    "result = shelter.check(new_animal_4)\n",
    "\n",
    "if result is None:\n",
    "    print(new_animal_4, \" has been sucessfully deleted.\")\n",
    "else:\n",
    "    print(\"Delete failed\", new_animal, \" did not get deleted.\")"
   ]
  },
  {
   "cell_type": "code",
   "execution_count": null,
   "outputs": [],
   "source": [],
   "metadata": {
    "collapsed": false
   }
  }
 ],
 "metadata": {
  "kernelspec": {
   "display_name": "Python 3",
   "language": "python",
   "name": "python3"
  },
  "language_info": {
   "codemirror_mode": {
    "name": "ipython",
    "version": 2
   },
   "file_extension": ".py",
   "mimetype": "text/x-python",
   "name": "python",
   "nbconvert_exporter": "python",
   "pygments_lexer": "ipython2",
   "version": "2.7.6"
  }
 },
 "nbformat": 4,
 "nbformat_minor": 0
}
